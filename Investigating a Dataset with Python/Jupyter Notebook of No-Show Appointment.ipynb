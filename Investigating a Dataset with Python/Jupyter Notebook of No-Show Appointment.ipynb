{
 "cells": [
  {
   "cell_type": "markdown",
   "metadata": {},
   "source": [
    "# Project: Investigate a Dataset of No-Show Appointment\n",
    "\n",
    "## Table of Contents\n",
    "<ul>\n",
    "<li><a href=\"#intro\">Introduction</a></li>\n",
    "<li><a href=\"#wrangling\">Data Wrangling</a></li>\n",
    "<li><a href=\"#eda\">Exploratory Data Analysis</a></li>\n",
    "<li><a href=\"#conclusions\">Conclusions</a></li>\n",
    "</ul>"
   ]
  },
  {
   "cell_type": "markdown",
   "metadata": {},
   "source": [
    "<a id='intro'></a>\n",
    "## Introduction\n",
    "\n",
    "This dataset collects information from 100k medical appointments in Brazil and is focused on the question of whether or not patients show up for their appointment.\n",
    "\n",
    "## Column Description\n",
    "<ul>\n",
    "<li><b>PatientId</b> = Identification of a patient.</li>\n",
    "<li><b>AppointmentID</b> = Identification of each appointment. </li>\n",
    "<li><b>Gender</b> = Male or Female.</li>\n",
    "<li><b>AppointmentDay</b> = The day of the actual appointment, when they have to visit the doctor. </li>\n",
    "<li><b>ScheduledDay</b> = The day they called to book the appointment.</li>\n",
    "<li><b>Age</b> = How old is the patient.</li>\n",
    "<li><b>Neighbourhood</b> = Where the appointment takes place. </li>\n",
    "<li><b>Scholarship</b> = Ture(1) or False(0).</li>\n",
    "<li><b>Hypertension</b> = True(1) or False(0).</li>\n",
    "<li><b>Diabetes</b> = True(1) or False(0).</li>\n",
    "<li><b>Alcoholism</b> = True(1) or False(0).</li>\n",
    "<li><b>Handcap</b> = True(1) or False(0).</li>\n",
    "<li><b>SMS_received</b> = 1 or more messages sent to the patient.</li> \n",
    "<li><b>No-show</b> = Yes or No.</li>    \n",
    "</ul>\n",
    "\n",
    "### Note:\n",
    "It is worth to notice that the 'No-Show' column have <b>No</b> if the patient showed up to their appointment, and <b>Yes</b>, if they did not show up.\n"
   ]
  },
  {
   "cell_type": "code",
   "execution_count": 1,
   "metadata": {},
   "outputs": [],
   "source": [
    "import numpy as np\n",
    "import pandas as pd\n",
    "import matplotlib.pyplot as plt\n",
    "import seaborn as sns\n",
    "\n",
    "%matplotlib inline"
   ]
  },
  {
   "cell_type": "markdown",
   "metadata": {},
   "source": [
    "<a id='wrangling'></a>\n",
    "## Data Wrangling\n"
   ]
  },
  {
   "cell_type": "markdown",
   "metadata": {},
   "source": [
    "> Pandas **read_csv** method loads the dataset into Pandas **DataFrame** for further analysis. **head** method can be used to print out a few rows of the dataset to check what kind of data we are dealing with."
   ]
  },
  {
   "cell_type": "code",
   "execution_count": 2,
   "metadata": {},
   "outputs": [
    {
     "data": {
      "text/html": [
       "<div>\n",
       "<style scoped>\n",
       "    .dataframe tbody tr th:only-of-type {\n",
       "        vertical-align: middle;\n",
       "    }\n",
       "\n",
       "    .dataframe tbody tr th {\n",
       "        vertical-align: top;\n",
       "    }\n",
       "\n",
       "    .dataframe thead th {\n",
       "        text-align: right;\n",
       "    }\n",
       "</style>\n",
       "<table border=\"1\" class=\"dataframe\">\n",
       "  <thead>\n",
       "    <tr style=\"text-align: right;\">\n",
       "      <th></th>\n",
       "      <th>PatientId</th>\n",
       "      <th>AppointmentID</th>\n",
       "      <th>Gender</th>\n",
       "      <th>ScheduledDay</th>\n",
       "      <th>AppointmentDay</th>\n",
       "      <th>Age</th>\n",
       "      <th>Neighbourhood</th>\n",
       "      <th>Scholarship</th>\n",
       "      <th>Hipertension</th>\n",
       "      <th>Diabetes</th>\n",
       "      <th>Alcoholism</th>\n",
       "      <th>Handcap</th>\n",
       "      <th>SMS_received</th>\n",
       "      <th>No-show</th>\n",
       "    </tr>\n",
       "  </thead>\n",
       "  <tbody>\n",
       "    <tr>\n",
       "      <th>0</th>\n",
       "      <td>2.987250e+13</td>\n",
       "      <td>5642903</td>\n",
       "      <td>F</td>\n",
       "      <td>2016-04-29T18:38:08Z</td>\n",
       "      <td>2016-04-29T00:00:00Z</td>\n",
       "      <td>62</td>\n",
       "      <td>JARDIM DA PENHA</td>\n",
       "      <td>0</td>\n",
       "      <td>1</td>\n",
       "      <td>0</td>\n",
       "      <td>0</td>\n",
       "      <td>0</td>\n",
       "      <td>0</td>\n",
       "      <td>No</td>\n",
       "    </tr>\n",
       "    <tr>\n",
       "      <th>1</th>\n",
       "      <td>5.589978e+14</td>\n",
       "      <td>5642503</td>\n",
       "      <td>M</td>\n",
       "      <td>2016-04-29T16:08:27Z</td>\n",
       "      <td>2016-04-29T00:00:00Z</td>\n",
       "      <td>56</td>\n",
       "      <td>JARDIM DA PENHA</td>\n",
       "      <td>0</td>\n",
       "      <td>0</td>\n",
       "      <td>0</td>\n",
       "      <td>0</td>\n",
       "      <td>0</td>\n",
       "      <td>0</td>\n",
       "      <td>No</td>\n",
       "    </tr>\n",
       "    <tr>\n",
       "      <th>2</th>\n",
       "      <td>4.262962e+12</td>\n",
       "      <td>5642549</td>\n",
       "      <td>F</td>\n",
       "      <td>2016-04-29T16:19:04Z</td>\n",
       "      <td>2016-04-29T00:00:00Z</td>\n",
       "      <td>62</td>\n",
       "      <td>MATA DA PRAIA</td>\n",
       "      <td>0</td>\n",
       "      <td>0</td>\n",
       "      <td>0</td>\n",
       "      <td>0</td>\n",
       "      <td>0</td>\n",
       "      <td>0</td>\n",
       "      <td>No</td>\n",
       "    </tr>\n",
       "    <tr>\n",
       "      <th>3</th>\n",
       "      <td>8.679512e+11</td>\n",
       "      <td>5642828</td>\n",
       "      <td>F</td>\n",
       "      <td>2016-04-29T17:29:31Z</td>\n",
       "      <td>2016-04-29T00:00:00Z</td>\n",
       "      <td>8</td>\n",
       "      <td>PONTAL DE CAMBURI</td>\n",
       "      <td>0</td>\n",
       "      <td>0</td>\n",
       "      <td>0</td>\n",
       "      <td>0</td>\n",
       "      <td>0</td>\n",
       "      <td>0</td>\n",
       "      <td>No</td>\n",
       "    </tr>\n",
       "    <tr>\n",
       "      <th>4</th>\n",
       "      <td>8.841186e+12</td>\n",
       "      <td>5642494</td>\n",
       "      <td>F</td>\n",
       "      <td>2016-04-29T16:07:23Z</td>\n",
       "      <td>2016-04-29T00:00:00Z</td>\n",
       "      <td>56</td>\n",
       "      <td>JARDIM DA PENHA</td>\n",
       "      <td>0</td>\n",
       "      <td>1</td>\n",
       "      <td>1</td>\n",
       "      <td>0</td>\n",
       "      <td>0</td>\n",
       "      <td>0</td>\n",
       "      <td>No</td>\n",
       "    </tr>\n",
       "  </tbody>\n",
       "</table>\n",
       "</div>"
      ],
      "text/plain": [
       "      PatientId  AppointmentID Gender          ScheduledDay  \\\n",
       "0  2.987250e+13        5642903      F  2016-04-29T18:38:08Z   \n",
       "1  5.589978e+14        5642503      M  2016-04-29T16:08:27Z   \n",
       "2  4.262962e+12        5642549      F  2016-04-29T16:19:04Z   \n",
       "3  8.679512e+11        5642828      F  2016-04-29T17:29:31Z   \n",
       "4  8.841186e+12        5642494      F  2016-04-29T16:07:23Z   \n",
       "\n",
       "         AppointmentDay  Age      Neighbourhood  Scholarship  Hipertension  \\\n",
       "0  2016-04-29T00:00:00Z   62    JARDIM DA PENHA            0             1   \n",
       "1  2016-04-29T00:00:00Z   56    JARDIM DA PENHA            0             0   \n",
       "2  2016-04-29T00:00:00Z   62      MATA DA PRAIA            0             0   \n",
       "3  2016-04-29T00:00:00Z    8  PONTAL DE CAMBURI            0             0   \n",
       "4  2016-04-29T00:00:00Z   56    JARDIM DA PENHA            0             1   \n",
       "\n",
       "   Diabetes  Alcoholism  Handcap  SMS_received No-show  \n",
       "0         0           0        0             0      No  \n",
       "1         0           0        0             0      No  \n",
       "2         0           0        0             0      No  \n",
       "3         0           0        0             0      No  \n",
       "4         1           0        0             0      No  "
      ]
     },
     "execution_count": 2,
     "metadata": {},
     "output_type": "execute_result"
    }
   ],
   "source": [
    "df = pd.read_csv('noshowappointments.csv')\n",
    "df.head()"
   ]
  },
  {
   "cell_type": "markdown",
   "metadata": {},
   "source": [
    "> Changing the column header names to **snake case** naming convention. With this, column names will be consistent with each other and can be use using dot notation. Also, correcting the spelling mistake in some column names."
   ]
  },
  {
   "cell_type": "code",
   "execution_count": 3,
   "metadata": {},
   "outputs": [],
   "source": [
    "columns = ['patient_id', 'appointment_id', 'gender', 'scheduled_day', 'appointment_day', 'age', 'neighbourhood', 'scholarship', 'hypertension', 'diabetes', 'alcoholism', 'handicap', 'sms_received', 'no_show']"
   ]
  },
  {
   "cell_type": "code",
   "execution_count": 4,
   "metadata": {},
   "outputs": [],
   "source": [
    "df.columns = columns"
   ]
  },
  {
   "cell_type": "markdown",
   "metadata": {},
   "source": [
    "> Pandas **info** method give detail about *Total no. of not null entries* for each and every column."
   ]
  },
  {
   "cell_type": "code",
   "execution_count": 5,
   "metadata": {},
   "outputs": [
    {
     "name": "stdout",
     "output_type": "stream",
     "text": [
      "<class 'pandas.core.frame.DataFrame'>\n",
      "RangeIndex: 110527 entries, 0 to 110526\n",
      "Data columns (total 14 columns):\n",
      "patient_id         110527 non-null float64\n",
      "appointment_id     110527 non-null int64\n",
      "gender             110527 non-null object\n",
      "scheduled_day      110527 non-null object\n",
      "appointment_day    110527 non-null object\n",
      "age                110527 non-null int64\n",
      "neighbourhood      110527 non-null object\n",
      "scholarship        110527 non-null int64\n",
      "hypertension       110527 non-null int64\n",
      "diabetes           110527 non-null int64\n",
      "alcoholism         110527 non-null int64\n",
      "handicap           110527 non-null int64\n",
      "sms_received       110527 non-null int64\n",
      "no_show            110527 non-null object\n",
      "dtypes: float64(1), int64(8), object(5)\n",
      "memory usage: 11.8+ MB\n"
     ]
    }
   ],
   "source": [
    "df.info()"
   ]
  },
  {
   "cell_type": "markdown",
   "metadata": {},
   "source": [
    "Every column has same count. There is no column having **null** in it"
   ]
  },
  {
   "cell_type": "markdown",
   "metadata": {},
   "source": [
    "> Pandas **to_datetime** method is used to convert *scheduled_day* and *appointment_day* from string to datetime object. We are splitting the string on the basis of position of 'T' to get only the date part. With this, we can use them for analysis that involve manipulation of dates."
   ]
  },
  {
   "cell_type": "code",
   "execution_count": 6,
   "metadata": {},
   "outputs": [],
   "source": [
    "df.scheduled_day = df.scheduled_day.apply(lambda x : x.split('T')[0])\n",
    "df.appointment_day = df.appointment_day.apply(lambda x : x.split('T')[0])"
   ]
  },
  {
   "cell_type": "code",
   "execution_count": 7,
   "metadata": {},
   "outputs": [],
   "source": [
    "df.scheduled_day = pd.to_datetime(df.scheduled_day)\n",
    "df.appointment_day = pd.to_datetime(df.appointment_day)"
   ]
  },
  {
   "cell_type": "markdown",
   "metadata": {},
   "source": [
    "> Since *no_show* column is confusing in interpretation. We will create a new column *patient_showed_up*, which is the inverse of *no_show* column."
   ]
  },
  {
   "cell_type": "code",
   "execution_count": 8,
   "metadata": {},
   "outputs": [
    {
     "data": {
      "text/plain": [
       "No     88208\n",
       "Yes    22319\n",
       "Name: no_show, dtype: int64"
      ]
     },
     "execution_count": 8,
     "metadata": {},
     "output_type": "execute_result"
    }
   ],
   "source": [
    "df['no_show'].value_counts()"
   ]
  },
  {
   "cell_type": "code",
   "execution_count": 9,
   "metadata": {},
   "outputs": [],
   "source": [
    "df['patient_showed_up'] = df['no_show'].apply(lambda x : \"No\" if x == \"Yes\" else \"Yes\")"
   ]
  },
  {
   "cell_type": "code",
   "execution_count": 10,
   "metadata": {},
   "outputs": [
    {
     "data": {
      "text/plain": [
       "Yes    88208\n",
       "No     22319\n",
       "Name: patient_showed_up, dtype: int64"
      ]
     },
     "execution_count": 10,
     "metadata": {},
     "output_type": "execute_result"
    }
   ],
   "source": [
    "df['patient_showed_up'].value_counts()"
   ]
  },
  {
   "cell_type": "markdown",
   "metadata": {},
   "source": [
    "> Dropping the *no_show* column using **Drop** method, since this column is not required any more"
   ]
  },
  {
   "cell_type": "code",
   "execution_count": 11,
   "metadata": {},
   "outputs": [],
   "source": [
    "df.drop(columns=['no_show'], axis=1, inplace=True)"
   ]
  },
  {
   "cell_type": "code",
   "execution_count": 12,
   "metadata": {},
   "outputs": [
    {
     "data": {
      "text/html": [
       "<div>\n",
       "<style scoped>\n",
       "    .dataframe tbody tr th:only-of-type {\n",
       "        vertical-align: middle;\n",
       "    }\n",
       "\n",
       "    .dataframe tbody tr th {\n",
       "        vertical-align: top;\n",
       "    }\n",
       "\n",
       "    .dataframe thead th {\n",
       "        text-align: right;\n",
       "    }\n",
       "</style>\n",
       "<table border=\"1\" class=\"dataframe\">\n",
       "  <thead>\n",
       "    <tr style=\"text-align: right;\">\n",
       "      <th></th>\n",
       "      <th>patient_id</th>\n",
       "      <th>appointment_id</th>\n",
       "      <th>gender</th>\n",
       "      <th>scheduled_day</th>\n",
       "      <th>appointment_day</th>\n",
       "      <th>age</th>\n",
       "      <th>neighbourhood</th>\n",
       "      <th>scholarship</th>\n",
       "      <th>hypertension</th>\n",
       "      <th>diabetes</th>\n",
       "      <th>alcoholism</th>\n",
       "      <th>handicap</th>\n",
       "      <th>sms_received</th>\n",
       "      <th>patient_showed_up</th>\n",
       "    </tr>\n",
       "  </thead>\n",
       "  <tbody>\n",
       "    <tr>\n",
       "      <th>0</th>\n",
       "      <td>2.987250e+13</td>\n",
       "      <td>5642903</td>\n",
       "      <td>F</td>\n",
       "      <td>2016-04-29</td>\n",
       "      <td>2016-04-29</td>\n",
       "      <td>62</td>\n",
       "      <td>JARDIM DA PENHA</td>\n",
       "      <td>0</td>\n",
       "      <td>1</td>\n",
       "      <td>0</td>\n",
       "      <td>0</td>\n",
       "      <td>0</td>\n",
       "      <td>0</td>\n",
       "      <td>Yes</td>\n",
       "    </tr>\n",
       "    <tr>\n",
       "      <th>1</th>\n",
       "      <td>5.589978e+14</td>\n",
       "      <td>5642503</td>\n",
       "      <td>M</td>\n",
       "      <td>2016-04-29</td>\n",
       "      <td>2016-04-29</td>\n",
       "      <td>56</td>\n",
       "      <td>JARDIM DA PENHA</td>\n",
       "      <td>0</td>\n",
       "      <td>0</td>\n",
       "      <td>0</td>\n",
       "      <td>0</td>\n",
       "      <td>0</td>\n",
       "      <td>0</td>\n",
       "      <td>Yes</td>\n",
       "    </tr>\n",
       "    <tr>\n",
       "      <th>2</th>\n",
       "      <td>4.262962e+12</td>\n",
       "      <td>5642549</td>\n",
       "      <td>F</td>\n",
       "      <td>2016-04-29</td>\n",
       "      <td>2016-04-29</td>\n",
       "      <td>62</td>\n",
       "      <td>MATA DA PRAIA</td>\n",
       "      <td>0</td>\n",
       "      <td>0</td>\n",
       "      <td>0</td>\n",
       "      <td>0</td>\n",
       "      <td>0</td>\n",
       "      <td>0</td>\n",
       "      <td>Yes</td>\n",
       "    </tr>\n",
       "    <tr>\n",
       "      <th>3</th>\n",
       "      <td>8.679512e+11</td>\n",
       "      <td>5642828</td>\n",
       "      <td>F</td>\n",
       "      <td>2016-04-29</td>\n",
       "      <td>2016-04-29</td>\n",
       "      <td>8</td>\n",
       "      <td>PONTAL DE CAMBURI</td>\n",
       "      <td>0</td>\n",
       "      <td>0</td>\n",
       "      <td>0</td>\n",
       "      <td>0</td>\n",
       "      <td>0</td>\n",
       "      <td>0</td>\n",
       "      <td>Yes</td>\n",
       "    </tr>\n",
       "    <tr>\n",
       "      <th>4</th>\n",
       "      <td>8.841186e+12</td>\n",
       "      <td>5642494</td>\n",
       "      <td>F</td>\n",
       "      <td>2016-04-29</td>\n",
       "      <td>2016-04-29</td>\n",
       "      <td>56</td>\n",
       "      <td>JARDIM DA PENHA</td>\n",
       "      <td>0</td>\n",
       "      <td>1</td>\n",
       "      <td>1</td>\n",
       "      <td>0</td>\n",
       "      <td>0</td>\n",
       "      <td>0</td>\n",
       "      <td>Yes</td>\n",
       "    </tr>\n",
       "  </tbody>\n",
       "</table>\n",
       "</div>"
      ],
      "text/plain": [
       "     patient_id  appointment_id gender scheduled_day appointment_day  age  \\\n",
       "0  2.987250e+13         5642903      F    2016-04-29      2016-04-29   62   \n",
       "1  5.589978e+14         5642503      M    2016-04-29      2016-04-29   56   \n",
       "2  4.262962e+12         5642549      F    2016-04-29      2016-04-29   62   \n",
       "3  8.679512e+11         5642828      F    2016-04-29      2016-04-29    8   \n",
       "4  8.841186e+12         5642494      F    2016-04-29      2016-04-29   56   \n",
       "\n",
       "       neighbourhood  scholarship  hypertension  diabetes  alcoholism  \\\n",
       "0    JARDIM DA PENHA            0             1         0           0   \n",
       "1    JARDIM DA PENHA            0             0         0           0   \n",
       "2      MATA DA PRAIA            0             0         0           0   \n",
       "3  PONTAL DE CAMBURI            0             0         0           0   \n",
       "4    JARDIM DA PENHA            0             1         1           0   \n",
       "\n",
       "   handicap  sms_received patient_showed_up  \n",
       "0         0             0               Yes  \n",
       "1         0             0               Yes  \n",
       "2         0             0               Yes  \n",
       "3         0             0               Yes  \n",
       "4         0             0               Yes  "
      ]
     },
     "execution_count": 12,
     "metadata": {},
     "output_type": "execute_result"
    }
   ],
   "source": [
    "df.head()"
   ]
  },
  {
   "cell_type": "markdown",
   "metadata": {},
   "source": [
    "> Pandas **duplicated** method can be used to check if there are multiple rows having same data."
   ]
  },
  {
   "cell_type": "code",
   "execution_count": 13,
   "metadata": {},
   "outputs": [
    {
     "data": {
      "text/plain": [
       "False    110527\n",
       "dtype: int64"
      ]
     },
     "execution_count": 13,
     "metadata": {},
     "output_type": "execute_result"
    }
   ],
   "source": [
    "df.duplicated().value_counts()"
   ]
  },
  {
   "cell_type": "markdown",
   "metadata": {},
   "source": [
    "Since there is no 'True' entry in the result. There are no duplicate rows in this dataframe."
   ]
  },
  {
   "cell_type": "markdown",
   "metadata": {},
   "source": [
    "### Data Cleaning (Replace this with more specific notes!)"
   ]
  },
  {
   "cell_type": "markdown",
   "metadata": {},
   "source": [
    "> Pandas **query** method is used to check whether there are any rows for which the Age is equal to or less than zero."
   ]
  },
  {
   "cell_type": "code",
   "execution_count": 14,
   "metadata": {},
   "outputs": [
    {
     "data": {
      "text/plain": [
       "49560"
      ]
     },
     "execution_count": 14,
     "metadata": {},
     "output_type": "execute_result"
    }
   ],
   "source": [
    "df.query('age <= 0').size"
   ]
  },
  {
   "cell_type": "markdown",
   "metadata": {},
   "source": [
    "This query returns 49560 rows. This means these many rows are having age value of equal to or less than zero. So, we will remove these rows from the dataframe."
   ]
  },
  {
   "cell_type": "markdown",
   "metadata": {},
   "source": [
    "> Pandas **drop** method is used to drop all the rows having age value equal to or less than zero."
   ]
  },
  {
   "cell_type": "code",
   "execution_count": 15,
   "metadata": {},
   "outputs": [],
   "source": [
    "df.drop(index=df.query('age <= 0').index, inplace=True)"
   ]
  },
  {
   "cell_type": "markdown",
   "metadata": {},
   "source": [
    "> Droping *appointment_id* columns because they are not much of a use as they contains different values for each row and do not contribute that much in our analysis."
   ]
  },
  {
   "cell_type": "code",
   "execution_count": 16,
   "metadata": {},
   "outputs": [],
   "source": [
    "df.drop(columns=['appointment_id'], axis=1, inplace=True)"
   ]
  },
  {
   "cell_type": "markdown",
   "metadata": {},
   "source": [
    "> Now, after removing *appointment_id*. We will check for duplicate rows. i.e. Patient have different appointment for same day, same time at same hospital."
   ]
  },
  {
   "cell_type": "code",
   "execution_count": 17,
   "metadata": {},
   "outputs": [
    {
     "data": {
      "text/plain": [
       "False    102856\n",
       "True       4131\n",
       "dtype: int64"
      ]
     },
     "execution_count": 17,
     "metadata": {},
     "output_type": "execute_result"
    }
   ],
   "source": [
    "df.duplicated().value_counts()"
   ]
  },
  {
   "cell_type": "markdown",
   "metadata": {},
   "source": [
    "There are 4131 duplicate rows. To remove the duplicate rows. We will use **drop_duplicates** method"
   ]
  },
  {
   "cell_type": "code",
   "execution_count": 18,
   "metadata": {},
   "outputs": [],
   "source": [
    "df.drop_duplicates(inplace=True)"
   ]
  },
  {
   "cell_type": "code",
   "execution_count": 19,
   "metadata": {},
   "outputs": [
    {
     "data": {
      "text/plain": [
       "False    102856\n",
       "dtype: int64"
      ]
     },
     "execution_count": 19,
     "metadata": {},
     "output_type": "execute_result"
    }
   ],
   "source": [
    "df.duplicated().value_counts()"
   ]
  },
  {
   "cell_type": "markdown",
   "metadata": {},
   "source": [
    "> Pandas **unique** method returns unique value present in a column of a dataframe\n",
    "\n",
    "The unique method returns 5 values for *handicap*. This might be because they are checking to what extent a person is handicapped. Since we are only checking whether a person is handicap or not, we will change the values other than 0 or 1 to **1**."
   ]
  },
  {
   "cell_type": "code",
   "execution_count": 20,
   "metadata": {},
   "outputs": [
    {
     "data": {
      "text/plain": [
       "array([0, 1, 2, 3, 4], dtype=int64)"
      ]
     },
     "execution_count": 20,
     "metadata": {},
     "output_type": "execute_result"
    }
   ],
   "source": [
    "df['handicap'].unique()"
   ]
  },
  {
   "cell_type": "code",
   "execution_count": 21,
   "metadata": {},
   "outputs": [],
   "source": [
    "handicap_val_index = df.query('handicap !=1 & handicap !=0').index"
   ]
  },
  {
   "cell_type": "code",
   "execution_count": 22,
   "metadata": {},
   "outputs": [],
   "source": [
    "df.loc[handicap_val_index, 'handicap'] = 1"
   ]
  },
  {
   "cell_type": "code",
   "execution_count": 23,
   "metadata": {},
   "outputs": [
    {
     "data": {
      "text/plain": [
       "array([0, 1], dtype=int64)"
      ]
     },
     "execution_count": 23,
     "metadata": {},
     "output_type": "execute_result"
    }
   ],
   "source": [
    "df['handicap'].unique()"
   ]
  },
  {
   "cell_type": "markdown",
   "metadata": {},
   "source": [
    "> Getting the time span betwwen the time when the patient book the appointment and the day the appointment is scheduled, and storing it in new column *time_diff*"
   ]
  },
  {
   "cell_type": "code",
   "execution_count": 24,
   "metadata": {},
   "outputs": [],
   "source": [
    "df['time_diff'] = df['appointment_day'].dt.date - df['scheduled_day'].dt.date"
   ]
  },
  {
   "cell_type": "markdown",
   "metadata": {},
   "source": [
    "Convert timedelta object to integer number for graphing purposes."
   ]
  },
  {
   "cell_type": "code",
   "execution_count": 25,
   "metadata": {},
   "outputs": [],
   "source": [
    "df['time_diff'] = df['time_diff'].apply(lambda td : int(td / np.timedelta64(1, 'D')))"
   ]
  },
  {
   "cell_type": "markdown",
   "metadata": {},
   "source": [
    "Checking for negative time difference. i.e. appointment day after schuduled day."
   ]
  },
  {
   "cell_type": "code",
   "execution_count": 26,
   "metadata": {},
   "outputs": [
    {
     "data": {
      "text/plain": [
       "-1    4\n",
       "-6    1\n",
       "Name: time_diff, dtype: int64"
      ]
     },
     "execution_count": 26,
     "metadata": {},
     "output_type": "execute_result"
    }
   ],
   "source": [
    "df.query('time_diff < 0')['time_diff'].value_counts()"
   ]
  },
  {
   "cell_type": "markdown",
   "metadata": {},
   "source": [
    "There are 5 rows having negative value of time difference. We will drop these rows."
   ]
  },
  {
   "cell_type": "code",
   "execution_count": 27,
   "metadata": {},
   "outputs": [],
   "source": [
    "df.drop(index=df.query('time_diff < 0').index, inplace=True)"
   ]
  },
  {
   "cell_type": "code",
   "execution_count": 28,
   "metadata": {},
   "outputs": [
    {
     "data": {
      "text/plain": [
       "179"
      ]
     },
     "execution_count": 28,
     "metadata": {},
     "output_type": "execute_result"
    }
   ],
   "source": [
    "df['time_diff'].max()"
   ]
  },
  {
   "cell_type": "markdown",
   "metadata": {},
   "source": [
    "The **maximum** time difference between schedule day and appointment day is 179 days."
   ]
  },
  {
   "cell_type": "code",
   "execution_count": 29,
   "metadata": {},
   "outputs": [
    {
     "name": "stdout",
     "output_type": "stream",
     "text": [
      "<class 'pandas.core.frame.DataFrame'>\n",
      "Int64Index: 102851 entries, 0 to 110526\n",
      "Data columns (total 14 columns):\n",
      "patient_id           102851 non-null float64\n",
      "gender               102851 non-null object\n",
      "scheduled_day        102851 non-null datetime64[ns]\n",
      "appointment_day      102851 non-null datetime64[ns]\n",
      "age                  102851 non-null int64\n",
      "neighbourhood        102851 non-null object\n",
      "scholarship          102851 non-null int64\n",
      "hypertension         102851 non-null int64\n",
      "diabetes             102851 non-null int64\n",
      "alcoholism           102851 non-null int64\n",
      "handicap             102851 non-null int64\n",
      "sms_received         102851 non-null int64\n",
      "patient_showed_up    102851 non-null object\n",
      "time_diff            102851 non-null int64\n",
      "dtypes: datetime64[ns](2), float64(1), int64(8), object(3)\n",
      "memory usage: 11.8+ MB\n"
     ]
    }
   ],
   "source": [
    "df.info()"
   ]
  },
  {
   "cell_type": "code",
   "execution_count": 30,
   "metadata": {},
   "outputs": [],
   "source": [
    "df.to_csv('data_sheet.csv', index=False)"
   ]
  },
  {
   "cell_type": "markdown",
   "metadata": {},
   "source": [
    "<a id='eda'></a>\n",
    "## Exploratory Data Analysis\n",
    "\n",
    "### 1.) What is the proportion of patients showed up for their appointment ? "
   ]
  },
  {
   "cell_type": "code",
   "execution_count": null,
   "metadata": {},
   "outputs": [],
   "source": [
    "plt.figure(figsize=(10,8))\n",
    "_, arr_bins, _ = plt.hist(df['patient_showed_up'], bins=2, rwidth=.95)\n",
    "plt.xticks([arr_bins[:2].mean(), arr_bins[1:].mean()], ['No', 'Yes'])\n",
    "plt.ylabel('No. of show ups')\n",
    "plt.xlabel('Patient showed up')\n",
    "plt.title('Histogram of Patients showed up VS. Patients didn\\'t show up');"
   ]
  },
  {
   "cell_type": "markdown",
   "metadata": {},
   "source": [
    "> From the above histogram, It is clear that a large no. of patients did show up for their appointment."
   ]
  },
  {
   "cell_type": "markdown",
   "metadata": {},
   "source": [
    "### 2.) What is the distrubution of patients in different age group ?"
   ]
  },
  {
   "cell_type": "code",
   "execution_count": null,
   "metadata": {},
   "outputs": [],
   "source": [
    "plt.figure(figsize=(18,12))\n",
    "plt.hist(df['age'], bins=50)\n",
    "plt.axis([0, 100, 0, 6000])\n",
    "plt.title('Histogram of different age groups of patients')\n",
    "plt.xlabel('Age')\n",
    "plt.ylabel('age frequency');"
   ]
  },
  {
   "cell_type": "markdown",
   "metadata": {},
   "source": [
    "> A great number of patients are under the age of 50. Also highest number of patient are infants."
   ]
  },
  {
   "cell_type": "markdown",
   "metadata": {},
   "source": [
    "### 3.) What is the proportion of patients having scholarship ?"
   ]
  },
  {
   "cell_type": "code",
   "execution_count": null,
   "metadata": {},
   "outputs": [],
   "source": [
    "plt.figure(figsize=(10,8))\n",
    "_, arr_bins,_ = plt.hist(df['scholarship'].values, bins=2, rwidth=.95)\n",
    "plt.title('Histogram of Patients with scholarship')\n",
    "plt.xticks([arr_bins[:2].mean(), arr_bins[1:].mean()], ['No', 'Yes'])\n",
    "plt.ylabel('No. of scholarships')\n",
    "plt.xlabel('Scholarship')\n",
    "plt.xlabel('Patient showed up');"
   ]
  },
  {
   "cell_type": "markdown",
   "metadata": {},
   "source": [
    "> We can assume from the above histogram that a large number of patients do not have scholarship (did not enroll for scholarship program)"
   ]
  },
  {
   "cell_type": "markdown",
   "metadata": {},
   "source": [
    "### 4.) For patients having a scholarship or not, What number of patients showed up for their appointment ?"
   ]
  },
  {
   "cell_type": "code",
   "execution_count": null,
   "metadata": {},
   "outputs": [],
   "source": [
    "scholarship_unstacked = df.groupby('scholarship')['patient_showed_up'].value_counts().unstack()"
   ]
  },
  {
   "cell_type": "code",
   "execution_count": null,
   "metadata": {},
   "outputs": [],
   "source": [
    "plt.figure(figsize=(8,5))\n",
    "\n",
    "plt.bar(x=range(len(scholarship_unstacked.index)), height=scholarship_unstacked['Yes'], alpha=0.5, label='Yes')\n",
    "plt.bar(x=range(len(scholarship_unstacked.index)), height=scholarship_unstacked['No'], alpha=0.5, color='red', label='No')\n",
    "\n",
    "plt.xticks(range(len(scholarship_unstacked.index)), ('Patients with No Schoparship', 'Patients with Schoparship'))\n",
    "\n",
    "plt.xlabel('Patient has scholarship')\n",
    "plt.ylabel('No. of patients')\n",
    "\n",
    "plt.title('Patient with/without scholarship showed for hospital appointment')\n",
    "plt.legend(title='Patient showed up');"
   ]
  },
  {
   "cell_type": "markdown",
   "metadata": {},
   "source": [
    "> The no. of people having scholarship is way less than poeple with no schoparship. People with no scholarship are visiting the hospital more than people who has scholarship."
   ]
  },
  {
   "cell_type": "markdown",
   "metadata": {},
   "source": [
    "### 5.) How many patients having certain conditions showed up for their appointment ?"
   ]
  },
  {
   "cell_type": "code",
   "execution_count": null,
   "metadata": {},
   "outputs": [],
   "source": [
    "patients_with_conditions = df.query('patient_showed_up == \"Yes\"').groupby(['hypertension', 'diabetes', 'alcoholism'])['patient_showed_up'].value_counts()"
   ]
  },
  {
   "cell_type": "code",
   "execution_count": null,
   "metadata": {},
   "outputs": [],
   "source": [
    "patients_with_conditions"
   ]
  },
  {
   "cell_type": "code",
   "execution_count": null,
   "metadata": {},
   "outputs": [],
   "source": [
    "patients_with_conditions.unstack().plot(kind='bar', figsize=(15,8))\n",
    "plt.yticks(np.linspace(0, patients_with_conditions.max(), 20))\n",
    "plt.xticks(range(8), ['No Condition', 'Alcoholism', 'Diabetes', 'Diabetes, \\nAlcoholism', 'Hypertension', \n",
    "                      'Hypertension, \\nAlcoholism', 'Hypertension, \\nDiabetes', 'Hypertension, \\nDiabetes, Alcoholism'], \n",
    "          rotation=0)\n",
    "plt.title('People with different conditions showed up for appointment')\n",
    "plt.xlabel('Different Conditions: Hypertension, Alcoholism, Diabetes')\n",
    "plt.ylabel('No. of patients')\n",
    "plt.legend(['Yes'], title='Patient showed up');"
   ]
  },
  {
   "cell_type": "markdown",
   "metadata": {},
   "source": [
    "> Apart from people with no condition, Patients with Hypertension are more likely to visit the hospital than people with any other conditions."
   ]
  },
  {
   "cell_type": "markdown",
   "metadata": {},
   "source": [
    "### 6.) What is the number number of patients who received SMS and who don't received showed up for their appointment ?"
   ]
  },
  {
   "cell_type": "code",
   "execution_count": null,
   "metadata": {},
   "outputs": [],
   "source": [
    "sms_received_grouped = df.groupby('sms_received')['patient_showed_up'].value_counts()"
   ]
  },
  {
   "cell_type": "code",
   "execution_count": null,
   "metadata": {},
   "outputs": [],
   "source": [
    "sms_received_unstack = sms_received_grouped.unstack()"
   ]
  },
  {
   "cell_type": "code",
   "execution_count": null,
   "metadata": {},
   "outputs": [],
   "source": [
    "plt.figure(figsize=(8,5))\n",
    "\n",
    "plt.bar(x=range(len(sms_received_unstack.index)), height=sms_received_unstack['Yes'], alpha=0.5, label='Yes')\n",
    "plt.bar(x=range(len(sms_received_unstack.index)), height=sms_received_unstack['No'], alpha=0.5, color='red', label='No')\n",
    "\n",
    "plt.xticks(range(len(sms_received_unstack.index)), ('Patients who didn\\'t receive SMS', 'Patients who received SMS'))\n",
    "\n",
    "plt.ylabel('No. of patients')\n",
    "plt.title('Patient who received SMS VS. Patient who didn\\'t receive SMS')\n",
    "plt.xlabel('Patient received or didn\\'t receive SMS')\n",
    "plt.legend(title='Patient showed up');"
   ]
  },
  {
   "cell_type": "markdown",
   "metadata": {},
   "source": [
    "> The no. of patients who didn't receive the SMS is much higher than those who received SMS. Still a large proportion of those patients went for their appointment."
   ]
  },
  {
   "cell_type": "markdown",
   "metadata": {},
   "source": [
    "### 7.) What is the proportion of male and female patients who showed up or didn't show up for their appointment ?"
   ]
  },
  {
   "cell_type": "code",
   "execution_count": null,
   "metadata": {},
   "outputs": [],
   "source": [
    "gender_unstacked = df.groupby('gender')['patient_showed_up'].value_counts().unstack()"
   ]
  },
  {
   "cell_type": "code",
   "execution_count": null,
   "metadata": {},
   "outputs": [],
   "source": [
    "gender_unstacked.plot(kind='bar', title='Female VS Male who showed up for appointment', figsize=(8,5))\n",
    "\n",
    "plt.xlabel('Female and Male Patient')\n",
    "plt.ylabel('No. of patients')\n",
    "\n",
    "plt.xticks(range(len(gender_unstacked.index)), ['Female', 'Male'], rotation=0);\n",
    "plt.legend(['No', 'Yes'], title='Patient showed up')"
   ]
  },
  {
   "cell_type": "markdown",
   "metadata": {},
   "source": [
    "> Females are more likely to go to hospital as compare to male patients. They are more concern about their health and fitness than male patients."
   ]
  },
  {
   "cell_type": "markdown",
   "metadata": {},
   "source": [
    "### 8.) Which Hospital is having maximum no of show ups ? And which hospital is having maximum no of no show ups ?"
   ]
  },
  {
   "cell_type": "code",
   "execution_count": null,
   "metadata": {},
   "outputs": [],
   "source": [
    "hospitals_in_neighbourhood = df.groupby('neighbourhood')['patient_showed_up'].value_counts().unstack()"
   ]
  },
  {
   "cell_type": "code",
   "execution_count": null,
   "metadata": {},
   "outputs": [],
   "source": [
    "plt.figure(figsize=(20,15))\n",
    "\n",
    "plt.subplot(2, 1, 1)\n",
    "plt.bar(x=range(len(hospitals_in_neighbourhood.index)), height=hospitals_in_neighbourhood['No'], label='No')\n",
    "plt.xticks(range(len(hospitals_in_neighbourhood.index)), hospitals_in_neighbourhood.index, rotation=90)\n",
    "plt.ylabel('No. of Patients')\n",
    "plt.xlabel('Hospital in Neighbourhood')\n",
    "plt.title('Hospital with no show count of patients')\n",
    "plt.legend(title='Patient showed up');\n",
    "\n",
    "plt.subplots_adjust(hspace=1.2)\n",
    "\n",
    "plt.subplot(2, 1, 2)\n",
    "plt.bar(x=range(len(hospitals_in_neighbourhood.index)), height=hospitals_in_neighbourhood['Yes'], color='orange', label='Yes')\n",
    "plt.xticks(range(len(hospitals_in_neighbourhood.index)), hospitals_in_neighbourhood.index, rotation=90)\n",
    "plt.ylabel('No. of Patients')\n",
    "plt.xlabel('Hospital in Neighbourhood')\n",
    "plt.title('Hospital with show count of patients')\n",
    "plt.legend(title='Patient showed up');"
   ]
  },
  {
   "cell_type": "markdown",
   "metadata": {},
   "source": [
    "> *'Jardim Camburi'* Hospital has maximum no. of visits from patients who booked an appointment. Also same hospital has maximum number of no show up."
   ]
  },
  {
   "cell_type": "markdown",
   "metadata": {},
   "source": [
    "### 9.) Does much later appointment date after schedule day became the reason of no show ?"
   ]
  },
  {
   "cell_type": "code",
   "execution_count": null,
   "metadata": {},
   "outputs": [],
   "source": [
    "diff_in_time_grp = df.groupby('time_diff')['patient_showed_up'].value_counts().unstack()"
   ]
  },
  {
   "cell_type": "code",
   "execution_count": null,
   "metadata": {},
   "outputs": [],
   "source": [
    "plt.figure(figsize=(15,12))\n",
    "plt.bar(x=range(len(diff_in_time_grp.index)), height=diff_in_time_grp['No'])\n",
    "\n",
    "plt.subplot(2, 1, 1)\n",
    "plt.bar(x=range(len(diff_in_time_grp.index)), height=diff_in_time_grp['No'], label='No')\n",
    "plt.xticks(range(0, len(diff_in_time_grp.index), 5), rotation=0)\n",
    "plt.ylabel('No. of Patients')\n",
    "plt.xlabel('Time difference in days')\n",
    "plt.title('Relation between \\'Difference of schedule day apointment day\\' & \\'Patient show up behavior\\'')\n",
    "plt.legend(title='Patient showed up', loc=\"upper right\")\n",
    "\n",
    "plt.subplots_adjust(hspace=.5)\n",
    "\n",
    "plt.subplot(2, 1, 2)\n",
    "plt.bar(x=range(len(diff_in_time_grp.index[1:])), height=diff_in_time_grp['Yes'][1:], color='orange', label='Yes')\n",
    "plt.xticks(range(0, len(diff_in_time_grp['Yes'].index), 5), rotation=0)\n",
    "plt.ylabel('No. of Patients')\n",
    "plt.xlabel('Time difference in days')\n",
    "plt.title('Relation between \\'Difference of schedule day apointment day\\' & \\'Patient show up behavior\\'')\n",
    "plt.legend(title='Patient showed up', loc=\"upper right\");"
   ]
  },
  {
   "cell_type": "markdown",
   "metadata": {},
   "source": [
    "> People are more likely to show up for their appointment if the time span between schedule day and appointment day is small."
   ]
  },
  {
   "cell_type": "markdown",
   "metadata": {},
   "source": [
    "<a id='conclusions'></a>\n",
    "## Conclusions\n",
    "\n",
    "### From all the figures and graphs we can conclude that:\n",
    "\n",
    "<ul>\n",
    "    <li> Most of the patients showed up for their appointment.</li>\n",
    "    <li> Most of the patients are under the age of 50. The highest number of patient are infants. </li>\n",
    "    <li> A large number of patients do not have scholarship or they did not enroll for scholarship program. </li>\n",
    "    <li> There are very less people having scholarship. People with no scholarship are visiting the hospital more than people having scholarship. </li>\n",
    "    <li> There are a lot of patients who didn't received notification SMS for their appointment. Still they went for their appointment.</li>\n",
    "    <li> Females are more likely to go to hospital as compare to male patients.</li>\n",
    "    <li> Except from *'No Condition'*, Patients having Hypertension are visiting hospitals for their appointment.</li>\n",
    "    <li> *'Jardim Camburi'* Hospital has maximum show ups and maximum no show ups.</li>\n",
    "    <li> People are more likely to show up for their appointment if the time span between schedule day and appointment day is small.</li>\n",
    "</ul>\n",
    "\n",
    "**Limitations:** Since we didn't use any statistical tests. The results might not be fully correct. The analysis is done just to get some basic insights from the data."
   ]
  }
 ],
 "metadata": {
  "kernelspec": {
   "display_name": "Python 3",
   "language": "python",
   "name": "python3"
  },
  "language_info": {
   "codemirror_mode": {
    "name": "ipython",
    "version": 3
   },
   "file_extension": ".py",
   "mimetype": "text/x-python",
   "name": "python",
   "nbconvert_exporter": "python",
   "pygments_lexer": "ipython3",
   "version": "3.6.5"
  }
 },
 "nbformat": 4,
 "nbformat_minor": 2
}
